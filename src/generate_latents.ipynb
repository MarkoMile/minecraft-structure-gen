{
  "cells": [
    {
      "cell_type": "markdown",
      "metadata": {
        "colab_type": "text",
        "id": "view-in-github"
      },
      "source": [
        "<a href=\"https://colab.research.google.com/github/MarkoMile/shap-e-minecraft/blob/main/working.ipynb\" target=\"_parent\"><img src=\"https://colab.research.google.com/assets/colab-badge.svg\" alt=\"Open In Colab\"/></a>"
      ]
    },
    {
      "cell_type": "code",
      "execution_count": null,
      "metadata": {
        "colab": {
          "base_uri": "https://localhost:8080/"
        },
        "id": "xUUpVC7NP7Y4",
        "outputId": "5a295fb3-1e45-4b0e-dc17-0c8c3305159f"
      },
      "outputs": [],
      "source": [
        "# !git clone https://github.com/MarkoMile/shap-e-minecraft"
      ]
    },
    {
      "cell_type": "code",
      "execution_count": null,
      "metadata": {
        "colab": {
          "base_uri": "https://localhost:8080/"
        },
        "id": "y4WNOSuEP8FA",
        "outputId": "3fbdd4ab-a176-45ab-b333-c2621f429775"
      },
      "outputs": [],
      "source": [
        "# %cd shap-e-minecraft\n",
        "# !pip install -e ."
      ]
    },
    {
      "cell_type": "code",
      "execution_count": null,
      "metadata": {
        "id": "9w8O_BIoP_dU"
      },
      "outputs": [],
      "source": [
        "import torch\n",
        "\n",
        "from shap_e.diffusion.sample import sample_latents\n",
        "from shap_e.diffusion.gaussian_diffusion import diffusion_from_config\n",
        "from shap_e.models.download import load_model, load_config\n",
        "from shap_e.util.notebooks import create_pan_cameras, decode_latent_images, gif_widget"
      ]
    },
    {
      "cell_type": "code",
      "execution_count": null,
      "metadata": {
        "id": "aJbjCcLrQB9q"
      },
      "outputs": [],
      "source": [
        "device = torch.device('cuda' if torch.cuda.is_available() else 'cpu')"
      ]
    },
    {
      "cell_type": "code",
      "execution_count": null,
      "metadata": {
        "id": "zD9pV65uQIH-"
      },
      "outputs": [],
      "source": [
        "xm = load_model('transmitter', device=device)\n",
        "model = load_model('text300M', device=device)\n",
        "diffusion = diffusion_from_config(load_config('diffusion'))"
      ]
    },
    {
      "cell_type": "code",
      "execution_count": null,
      "metadata": {
        "id": "AcUGGcxe0Un-"
      },
      "outputs": [],
      "source": [
        "# Example of saving the latents as meshes.\n",
        "from shap_e.util.notebooks import decode_latent_mesh\n",
        "from shap_e.rendering.mc import marching_cubes\n",
        "from shap_e.models.query import Query\n",
        "from shap_e.models.renderer import Renderer, get_camera_from_batch\n",
        "from shap_e.models.volume import BoundingBoxVolume, Volume\n",
        "from shap_e.util.collections import AttrDict\n",
        "from functools import partial\n",
        "from shap_e.models.nn.meta import subdict\n",
        "\n",
        "def volume_query_points(\n",
        "    volume: Volume,\n",
        "    grid_size: int,\n",
        "):\n",
        "    assert isinstance(volume, BoundingBoxVolume)\n",
        "    indices = torch.arange(grid_size**3, device=volume.bbox_min.device)\n",
        "    zs = indices % grid_size\n",
        "    ys = torch.div(indices, grid_size, rounding_mode=\"trunc\") % grid_size\n",
        "    xs = torch.div(indices, grid_size**2, rounding_mode=\"trunc\") % grid_size\n",
        "    combined = torch.stack([xs, ys, zs], dim=1)\n",
        "    return (combined.float() / (grid_size - 1)) * (\n",
        "        volume.bbox_max - volume.bbox_min\n",
        "    ) + volume.bbox_min"
      ]
    },
    {
      "cell_type": "code",
      "execution_count": null,
      "metadata": {
        "id": "4qBHl_vd7GO3"
      },
      "outputs": [],
      "source": [
        "from typing import Union\n",
        "from shap_e.models.transmitter.base import Transmitter, VectorDecoder\n",
        "\n",
        "@torch.no_grad()\n",
        "def voxelGrid(\n",
        "    xm: Union[Transmitter, VectorDecoder],\n",
        "    latent: torch.Tensor,\n",
        "):\n",
        "  batch = AttrDict(cameras=create_pan_cameras(2, latent.device))\n",
        "  query_batch_size = batch.get(\"query_batch_size\", batch.get(\"ray_batch_size\", 4096))\n",
        "  parameters=(xm.encoder if isinstance(xm, Transmitter) else xm).bottleneck_to_params(\n",
        "            latent[None]\n",
        "        )\n",
        "  options=AttrDict(rendering_mode=\"stf\", render_with_direction=False)\n",
        "  volume = xm.renderer.volume;\n",
        "  grid_size = xm.renderer.grid_size\n",
        "\n",
        "  sdf_fn = tf_fn = nerstf_fn = None\n",
        "  if xm.renderer.nerstf is not None:\n",
        "    nerstf_fn = partial(\n",
        "        xm.renderer.nerstf.forward_batched,\n",
        "        params=subdict(parameters, \"nerstf\"),\n",
        "        options=options,\n",
        "    )\n",
        "  else:\n",
        "      sdf_fn = partial(\n",
        "          xm.renderer.sdf.forward_batched,\n",
        "          params=subdict(parameters, \"sdf\"),\n",
        "          options=options,\n",
        "      )\n",
        "      tf_fn = partial(\n",
        "          xm.renderer.tf.forward_batched,\n",
        "          params=subdict(parameters, \"tf\"),\n",
        "          options=options,\n",
        "      )\n",
        "\n",
        "  query_points= volume_query_points(volume,grid_size)\n",
        "\n",
        "  fn = nerstf_fn\n",
        "  sdf_out = fn(\n",
        "      query=Query(position=query_points[None].repeat(batch_size, 1, 1)),\n",
        "      query_batch_size=query_batch_size,\n",
        "      options=options,\n",
        "  )\n",
        "  # print(sdf_out)\n",
        "\n",
        "  fields = sdf_out.signed_distance.float()\n",
        "  raw_signed_distance = sdf_out.signed_distance\n",
        "  assert (\n",
        "      len(fields.shape) == 3 and fields.shape[-1] == 1\n",
        "  ), f\"expected [meta_batch x inner_batch] SDF results, but got {fields.shape}\"\n",
        "  fields = fields.reshape(batch_size, *([grid_size] * 3))\n",
        "\n",
        "  ######### DOWNSAMPLING OF FIELD TO ACHIEVE BETTER ACCURACY FOR LOWER RESOLUTIONS #########\n",
        "  # pool of square window\n",
        "  m = torch.nn.AvgPool3d(3, stride=3)\n",
        "\n",
        "  downsampled_fields = m(fields)\n",
        "  downsampled_fields = downsampled_fields.round()\n",
        "\n",
        "  # textures\n",
        "\n",
        "  query_points= volume_query_points(volume,grid_size//3)\n",
        "\n",
        "  fn = nerstf_fn\n",
        "  sdf_out = fn(\n",
        "      query=Query(position=query_points[None].repeat(batch_size, 1, 1)),\n",
        "      query_batch_size=query_batch_size,\n",
        "      options=options,\n",
        "  )\n",
        "\n",
        "  texture_grid = sdf_out.channels.float().view(grid_size//3,grid_size//3,grid_size//3,3)\n",
        "\n",
        "  out = AttrDict(\n",
        "            fields = fields,\n",
        "            downsampled_fields = downsampled_fields,\n",
        "            texture_grid = texture_grid,\n",
        "            raw_signed_distance = raw_signed_distance,\n",
        "            volume = volume\n",
        "        )\n",
        "\n",
        "  return out"
      ]
    },
    {
      "cell_type": "code",
      "execution_count": null,
      "metadata": {
        "id": "fn4-yOKA-D4p"
      },
      "outputs": [],
      "source": [
        "def marching_cubes_voxel(\n",
        "    field: torch.Tensor,\n",
        "    min_point: torch.Tensor,\n",
        "    size: torch.Tensor,\n",
        "):\n",
        "    assert len(field.shape) == 3, \"input must be a 3D scalar field\"\n",
        "    dev = field.device\n",
        "\n",
        "    grid_size = field.shape\n",
        "    grid_size_tensor = torch.tensor(grid_size).to(size)\n",
        "\n",
        "    # Create bitmasks between 0 and 255 (inclusive) indicating the state\n",
        "    # of the eight corners of each cube.\n",
        "    bitmasks = (field >= 0).to(torch.uint8)\n",
        "    # Compute corner coordinates across the entire grid.\n",
        "    corner_coords = torch.empty(*grid_size, 3, device=dev, dtype=field.dtype)\n",
        "    corner_coords[range(grid_size[0]), :, :, 0] = torch.arange(\n",
        "        grid_size[0], device=dev, dtype=field.dtype\n",
        "    )[:, None, None]\n",
        "    corner_coords[:, range(grid_size[1]), :, 1] = torch.arange(\n",
        "        grid_size[1], device=dev, dtype=field.dtype\n",
        "    )[:, None]\n",
        "    corner_coords[:, :, range(grid_size[2]), 2] = torch.arange(\n",
        "        grid_size[2], device=dev, dtype=field.dtype\n",
        "    )\n",
        "    # Create a flat array of [X, Y, Z] indices for each cube.\n",
        "    cube_indices = torch.zeros(\n",
        "        grid_size[0] - 1, grid_size[1] - 1, grid_size[2] - 1, 3, device=dev, dtype=torch.long\n",
        "    )\n",
        "    cube_indices[range(grid_size[0] - 1), :, :, 0] = torch.arange(grid_size[0] - 1, device=dev)[\n",
        "        :, None, None\n",
        "    ]\n",
        "    cube_indices[:, range(grid_size[1] - 1), :, 1] = torch.arange(grid_size[1] - 1, device=dev)[\n",
        "        :, None\n",
        "    ]\n",
        "    cube_indices[:, :, range(grid_size[2] - 1), 2] = torch.arange(grid_size[2] - 1, device=dev)\n",
        "    flat_cube_indices = cube_indices.reshape(-1, 3)\n",
        "\n",
        "    flat_bitmasks = bitmasks.reshape(\n",
        "        -1\n",
        "    ).long()  # must cast to long for indexing to believe this not a mask\n",
        "\n",
        "    used_indices = torch.nonzero(bitmasks)\n",
        "\n",
        "    out = AttrDict(\n",
        "            bitmasks = bitmasks,\n",
        "            flat_bitmasks = flat_bitmasks,\n",
        "            used_indices = used_indices,\n",
        "            corner_coords = corner_coords,\n",
        "            flat_cube_indices = flat_cube_indices\n",
        "        )\n",
        "    return out\n"
      ]
    },
    {
      "cell_type": "code",
      "execution_count": null,
      "metadata": {
        "colab": {
          "base_uri": "https://localhost:8080/",
          "height": 49,
          "referenced_widgets": [
            "38816de5da264c0693e47206dd4ad7af",
            "d02134c6c87c49b0a4fed440510eef0a",
            "fa22443a06ad41958c16d738dcbbe6ae",
            "4c40a0b97d334f4ba6c28cd2e5c940e2",
            "bfafbbc075ea4f93886692f4a6e1cc9e",
            "8d2adafe81ce4c1aa8a89f0a86639f5b",
            "6e19ea147c934721bc1c59c93220c474",
            "fd78f7e394244131a2841322b210344a",
            "02d0fe1aa53b486cb097971c6d9ea68c",
            "076accf21a364cbdb48672f0d8f94f37",
            "cfde01deda2645f8bf849b914ba591b0"
          ]
        },
        "id": "3IAG_Hu5QLNu",
        "outputId": "d3981c8f-60e7-49f8-9ecb-4aad0f1e8fee"
      },
      "outputs": [],
      "source": [
        "batch_size = 1 # this is the size of the models, higher values take longer to generate.\n",
        "guidance_scale = 10.0 # this is the scale of the guidance, higher values make the model look more like the prompt.\n",
        "prompt = \"a rubber duck\" # this is the prompt, you can change this to anything you want.\n",
        "\n",
        "# Generate the latents\n",
        "\n",
        "latents = sample_latents(\n",
        "    batch_size=batch_size,\n",
        "    model=model,\n",
        "    diffusion=diffusion,\n",
        "    guidance_scale=guidance_scale,\n",
        "    model_kwargs=dict(texts=[prompt] * batch_size),\n",
        "    progress=True,\n",
        "    clip_denoised=True,\n",
        "    use_fp16=True,\n",
        "    use_karras=True,\n",
        "    karras_steps=64,\n",
        "    sigma_min=1E-3,\n",
        "    sigma_max=160,\n",
        "    s_churn=0,\n",
        ")"
      ]
    },
    {
      "cell_type": "code",
      "execution_count": null,
      "metadata": {
        "colab": {
          "base_uri": "https://localhost:8080/",
          "height": 95,
          "referenced_widgets": [
            "51ab409b9dcd4a99a515bb0b83522eaf",
            "f8bde11df2554312ba2f6b868044337b",
            "9d5b7826a04f44b0aa7fc7e393fb0caa"
          ]
        },
        "id": "Iv68WZCwEAP7",
        "outputId": "0073f6e7-b0fc-412d-bac1-2b00e55bdbb3"
      },
      "outputs": [],
      "source": [
        "# Render the latents as images. (gif)\n",
        "# (disabled by default, uncomment to enable)\n",
        "\n",
        "# render_mode = 'nerf' # you can change this to 'stf'\n",
        "# size = 64 # this is the size of the renders, higher values take longer to render.\n",
        "\n",
        "# cameras = create_pan_cameras(size, device)\n",
        "# for i, latent in enumerate(latents):\n",
        "#     images = decode_latent_images(xm, latent, cameras, rendering_mode=render_mode)\n",
        "#     display(gif_widget(images))"
      ]
    },
    {
      "cell_type": "code",
      "execution_count": null,
      "metadata": {
        "id": "BeabDjbT8NvG"
      },
      "outputs": [],
      "source": [
        "# final grid size value can be changed to any value, higher values take longer to render.\n",
        "final_grid_size = 24\n",
        "\n",
        "# this is used for downsampling to get better results for lower resolutions.\n",
        "xm.renderer.grid_size = final_grid_size * 3\n",
        "\n",
        "for i, latent in enumerate(latents):\n",
        "  t = voxelGrid(xm, latent)\n",
        "  mc = (marching_cubes_voxel(t.downsampled_fields[0], t.volume.bbox_min, t.volume.bbox_max - t.volume.bbox_min))\n"
      ]
    },
    {
      "cell_type": "code",
      "execution_count": null,
      "metadata": {
        "colab": {
          "base_uri": "https://localhost:8080/",
          "height": 427
        },
        "id": "t3Jy1A7YHYPu",
        "outputId": "b9940ceb-e7f2-42ad-d95d-63d9e85a2566"
      },
      "outputs": [],
      "source": [
        "# Plotting the voxel grid to visualize the model.\n",
        "\n",
        "from mpl_toolkits.mplot3d import Axes3D\n",
        "import numpy as np\n",
        "import matplotlib.pyplot as plt\n",
        "\n",
        "ax = plt.figure().add_subplot(projection='3d')\n",
        "ax.voxels(mc.bitmasks.cpu().numpy(),facecolors=t.texture_grid.cpu().numpy())\n",
        "ax.set_aspect('equal')\n",
        "\n",
        "\n",
        "plt.show()\n"
      ]
    },
    {
      "cell_type": "code",
      "execution_count": null,
      "metadata": {
        "id": "MmH9yxTE2mKE"
      },
      "outputs": [],
      "source": [
        "#prepare the save directory\n",
        "prompt_dirname = prompt.replace(\" \", \"_\")\n",
        "\n",
        "#save color and coords data for use in minecraft script\n",
        "torch.save(mc.used_indices, f'{prompt_dirname}/coords.pt')\n",
        "torch.save(t.texture_grid, f'{prompt_dirname}/colors.pt')"
      ]
    }
  ],
  "metadata": {
    "accelerator": "GPU",
    "colab": {
      "include_colab_link": true,
      "provenance": []
    },
    "kernelspec": {
      "display_name": "Python 3",
      "name": "python3"
    },
    "language_info": {
      "codemirror_mode": {
        "name": "ipython",
        "version": 3
      },
      "file_extension": ".py",
      "mimetype": "text/x-python",
      "name": "python",
      "nbconvert_exporter": "python",
      "pygments_lexer": "ipython3",
      "version": "3.12.2"
    },
    "widgets": {
      "application/vnd.jupyter.widget-state+json": {
        "02d0fe1aa53b486cb097971c6d9ea68c": {
          "model_module": "@jupyter-widgets/controls",
          "model_module_version": "1.5.0",
          "model_name": "ProgressStyleModel",
          "state": {
            "_model_module": "@jupyter-widgets/controls",
            "_model_module_version": "1.5.0",
            "_model_name": "ProgressStyleModel",
            "_view_count": null,
            "_view_module": "@jupyter-widgets/base",
            "_view_module_version": "1.2.0",
            "_view_name": "StyleView",
            "bar_color": null,
            "description_width": ""
          }
        },
        "076accf21a364cbdb48672f0d8f94f37": {
          "model_module": "@jupyter-widgets/base",
          "model_module_version": "1.2.0",
          "model_name": "LayoutModel",
          "state": {
            "_model_module": "@jupyter-widgets/base",
            "_model_module_version": "1.2.0",
            "_model_name": "LayoutModel",
            "_view_count": null,
            "_view_module": "@jupyter-widgets/base",
            "_view_module_version": "1.2.0",
            "_view_name": "LayoutView",
            "align_content": null,
            "align_items": null,
            "align_self": null,
            "border": null,
            "bottom": null,
            "display": null,
            "flex": null,
            "flex_flow": null,
            "grid_area": null,
            "grid_auto_columns": null,
            "grid_auto_flow": null,
            "grid_auto_rows": null,
            "grid_column": null,
            "grid_gap": null,
            "grid_row": null,
            "grid_template_areas": null,
            "grid_template_columns": null,
            "grid_template_rows": null,
            "height": null,
            "justify_content": null,
            "justify_items": null,
            "left": null,
            "margin": null,
            "max_height": null,
            "max_width": null,
            "min_height": null,
            "min_width": null,
            "object_fit": null,
            "object_position": null,
            "order": null,
            "overflow": null,
            "overflow_x": null,
            "overflow_y": null,
            "padding": null,
            "right": null,
            "top": null,
            "visibility": null,
            "width": null
          }
        },
        "38816de5da264c0693e47206dd4ad7af": {
          "model_module": "@jupyter-widgets/controls",
          "model_module_version": "1.5.0",
          "model_name": "HBoxModel",
          "state": {
            "_dom_classes": [],
            "_model_module": "@jupyter-widgets/controls",
            "_model_module_version": "1.5.0",
            "_model_name": "HBoxModel",
            "_view_count": null,
            "_view_module": "@jupyter-widgets/controls",
            "_view_module_version": "1.5.0",
            "_view_name": "HBoxView",
            "box_style": "",
            "children": [
              "IPY_MODEL_d02134c6c87c49b0a4fed440510eef0a",
              "IPY_MODEL_fa22443a06ad41958c16d738dcbbe6ae",
              "IPY_MODEL_4c40a0b97d334f4ba6c28cd2e5c940e2"
            ],
            "layout": "IPY_MODEL_bfafbbc075ea4f93886692f4a6e1cc9e"
          }
        },
        "4c40a0b97d334f4ba6c28cd2e5c940e2": {
          "model_module": "@jupyter-widgets/controls",
          "model_module_version": "1.5.0",
          "model_name": "HTMLModel",
          "state": {
            "_dom_classes": [],
            "_model_module": "@jupyter-widgets/controls",
            "_model_module_version": "1.5.0",
            "_model_name": "HTMLModel",
            "_view_count": null,
            "_view_module": "@jupyter-widgets/controls",
            "_view_module_version": "1.5.0",
            "_view_name": "HTMLView",
            "description": "",
            "description_tooltip": null,
            "layout": "IPY_MODEL_076accf21a364cbdb48672f0d8f94f37",
            "placeholder": "​",
            "style": "IPY_MODEL_cfde01deda2645f8bf849b914ba591b0",
            "value": " 64/64 [00:24&lt;00:00,  3.03it/s]"
          }
        },
        "51ab409b9dcd4a99a515bb0b83522eaf": {
          "model_module": "@jupyter-widgets/controls",
          "model_module_version": "1.5.0",
          "model_name": "HTMLModel",
          "state": {
            "_dom_classes": [],
            "_model_module": "@jupyter-widgets/controls",
            "_model_module_version": "1.5.0",
            "_model_name": "HTMLModel",
            "_view_count": null,
            "_view_module": "@jupyter-widgets/controls",
            "_view_module_version": "1.5.0",
            "_view_name": "HTMLView",
            "description": "",
            "description_tooltip": null,
            "layout": "IPY_MODEL_f8bde11df2554312ba2f6b868044337b",
            "placeholder": "​",
            "style": "IPY_MODEL_9d5b7826a04f44b0aa7fc7e393fb0caa",
            "value": "<img src=\"data:image/gif;base64,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\" />"
          }
        },
        "6e19ea147c934721bc1c59c93220c474": {
          "model_module": "@jupyter-widgets/controls",
          "model_module_version": "1.5.0",
          "model_name": "DescriptionStyleModel",
          "state": {
            "_model_module": "@jupyter-widgets/controls",
            "_model_module_version": "1.5.0",
            "_model_name": "DescriptionStyleModel",
            "_view_count": null,
            "_view_module": "@jupyter-widgets/base",
            "_view_module_version": "1.2.0",
            "_view_name": "StyleView",
            "description_width": ""
          }
        },
        "8d2adafe81ce4c1aa8a89f0a86639f5b": {
          "model_module": "@jupyter-widgets/base",
          "model_module_version": "1.2.0",
          "model_name": "LayoutModel",
          "state": {
            "_model_module": "@jupyter-widgets/base",
            "_model_module_version": "1.2.0",
            "_model_name": "LayoutModel",
            "_view_count": null,
            "_view_module": "@jupyter-widgets/base",
            "_view_module_version": "1.2.0",
            "_view_name": "LayoutView",
            "align_content": null,
            "align_items": null,
            "align_self": null,
            "border": null,
            "bottom": null,
            "display": null,
            "flex": null,
            "flex_flow": null,
            "grid_area": null,
            "grid_auto_columns": null,
            "grid_auto_flow": null,
            "grid_auto_rows": null,
            "grid_column": null,
            "grid_gap": null,
            "grid_row": null,
            "grid_template_areas": null,
            "grid_template_columns": null,
            "grid_template_rows": null,
            "height": null,
            "justify_content": null,
            "justify_items": null,
            "left": null,
            "margin": null,
            "max_height": null,
            "max_width": null,
            "min_height": null,
            "min_width": null,
            "object_fit": null,
            "object_position": null,
            "order": null,
            "overflow": null,
            "overflow_x": null,
            "overflow_y": null,
            "padding": null,
            "right": null,
            "top": null,
            "visibility": null,
            "width": null
          }
        },
        "9d5b7826a04f44b0aa7fc7e393fb0caa": {
          "model_module": "@jupyter-widgets/controls",
          "model_module_version": "1.5.0",
          "model_name": "DescriptionStyleModel",
          "state": {
            "_model_module": "@jupyter-widgets/controls",
            "_model_module_version": "1.5.0",
            "_model_name": "DescriptionStyleModel",
            "_view_count": null,
            "_view_module": "@jupyter-widgets/base",
            "_view_module_version": "1.2.0",
            "_view_name": "StyleView",
            "description_width": ""
          }
        },
        "bfafbbc075ea4f93886692f4a6e1cc9e": {
          "model_module": "@jupyter-widgets/base",
          "model_module_version": "1.2.0",
          "model_name": "LayoutModel",
          "state": {
            "_model_module": "@jupyter-widgets/base",
            "_model_module_version": "1.2.0",
            "_model_name": "LayoutModel",
            "_view_count": null,
            "_view_module": "@jupyter-widgets/base",
            "_view_module_version": "1.2.0",
            "_view_name": "LayoutView",
            "align_content": null,
            "align_items": null,
            "align_self": null,
            "border": null,
            "bottom": null,
            "display": null,
            "flex": null,
            "flex_flow": null,
            "grid_area": null,
            "grid_auto_columns": null,
            "grid_auto_flow": null,
            "grid_auto_rows": null,
            "grid_column": null,
            "grid_gap": null,
            "grid_row": null,
            "grid_template_areas": null,
            "grid_template_columns": null,
            "grid_template_rows": null,
            "height": null,
            "justify_content": null,
            "justify_items": null,
            "left": null,
            "margin": null,
            "max_height": null,
            "max_width": null,
            "min_height": null,
            "min_width": null,
            "object_fit": null,
            "object_position": null,
            "order": null,
            "overflow": null,
            "overflow_x": null,
            "overflow_y": null,
            "padding": null,
            "right": null,
            "top": null,
            "visibility": null,
            "width": null
          }
        },
        "cfde01deda2645f8bf849b914ba591b0": {
          "model_module": "@jupyter-widgets/controls",
          "model_module_version": "1.5.0",
          "model_name": "DescriptionStyleModel",
          "state": {
            "_model_module": "@jupyter-widgets/controls",
            "_model_module_version": "1.5.0",
            "_model_name": "DescriptionStyleModel",
            "_view_count": null,
            "_view_module": "@jupyter-widgets/base",
            "_view_module_version": "1.2.0",
            "_view_name": "StyleView",
            "description_width": ""
          }
        },
        "d02134c6c87c49b0a4fed440510eef0a": {
          "model_module": "@jupyter-widgets/controls",
          "model_module_version": "1.5.0",
          "model_name": "HTMLModel",
          "state": {
            "_dom_classes": [],
            "_model_module": "@jupyter-widgets/controls",
            "_model_module_version": "1.5.0",
            "_model_name": "HTMLModel",
            "_view_count": null,
            "_view_module": "@jupyter-widgets/controls",
            "_view_module_version": "1.5.0",
            "_view_name": "HTMLView",
            "description": "",
            "description_tooltip": null,
            "layout": "IPY_MODEL_8d2adafe81ce4c1aa8a89f0a86639f5b",
            "placeholder": "​",
            "style": "IPY_MODEL_6e19ea147c934721bc1c59c93220c474",
            "value": "100%"
          }
        },
        "f8bde11df2554312ba2f6b868044337b": {
          "model_module": "@jupyter-widgets/base",
          "model_module_version": "1.2.0",
          "model_name": "LayoutModel",
          "state": {
            "_model_module": "@jupyter-widgets/base",
            "_model_module_version": "1.2.0",
            "_model_name": "LayoutModel",
            "_view_count": null,
            "_view_module": "@jupyter-widgets/base",
            "_view_module_version": "1.2.0",
            "_view_name": "LayoutView",
            "align_content": null,
            "align_items": null,
            "align_self": null,
            "border": null,
            "bottom": null,
            "display": null,
            "flex": null,
            "flex_flow": null,
            "grid_area": null,
            "grid_auto_columns": null,
            "grid_auto_flow": null,
            "grid_auto_rows": null,
            "grid_column": null,
            "grid_gap": null,
            "grid_row": null,
            "grid_template_areas": null,
            "grid_template_columns": null,
            "grid_template_rows": null,
            "height": null,
            "justify_content": null,
            "justify_items": null,
            "left": null,
            "margin": null,
            "max_height": null,
            "max_width": null,
            "min_height": null,
            "min_width": null,
            "object_fit": null,
            "object_position": null,
            "order": null,
            "overflow": null,
            "overflow_x": null,
            "overflow_y": null,
            "padding": null,
            "right": null,
            "top": null,
            "visibility": null,
            "width": null
          }
        },
        "fa22443a06ad41958c16d738dcbbe6ae": {
          "model_module": "@jupyter-widgets/controls",
          "model_module_version": "1.5.0",
          "model_name": "FloatProgressModel",
          "state": {
            "_dom_classes": [],
            "_model_module": "@jupyter-widgets/controls",
            "_model_module_version": "1.5.0",
            "_model_name": "FloatProgressModel",
            "_view_count": null,
            "_view_module": "@jupyter-widgets/controls",
            "_view_module_version": "1.5.0",
            "_view_name": "ProgressView",
            "bar_style": "success",
            "description": "",
            "description_tooltip": null,
            "layout": "IPY_MODEL_fd78f7e394244131a2841322b210344a",
            "max": 64,
            "min": 0,
            "orientation": "horizontal",
            "style": "IPY_MODEL_02d0fe1aa53b486cb097971c6d9ea68c",
            "value": 64
          }
        },
        "fd78f7e394244131a2841322b210344a": {
          "model_module": "@jupyter-widgets/base",
          "model_module_version": "1.2.0",
          "model_name": "LayoutModel",
          "state": {
            "_model_module": "@jupyter-widgets/base",
            "_model_module_version": "1.2.0",
            "_model_name": "LayoutModel",
            "_view_count": null,
            "_view_module": "@jupyter-widgets/base",
            "_view_module_version": "1.2.0",
            "_view_name": "LayoutView",
            "align_content": null,
            "align_items": null,
            "align_self": null,
            "border": null,
            "bottom": null,
            "display": null,
            "flex": null,
            "flex_flow": null,
            "grid_area": null,
            "grid_auto_columns": null,
            "grid_auto_flow": null,
            "grid_auto_rows": null,
            "grid_column": null,
            "grid_gap": null,
            "grid_row": null,
            "grid_template_areas": null,
            "grid_template_columns": null,
            "grid_template_rows": null,
            "height": null,
            "justify_content": null,
            "justify_items": null,
            "left": null,
            "margin": null,
            "max_height": null,
            "max_width": null,
            "min_height": null,
            "min_width": null,
            "object_fit": null,
            "object_position": null,
            "order": null,
            "overflow": null,
            "overflow_x": null,
            "overflow_y": null,
            "padding": null,
            "right": null,
            "top": null,
            "visibility": null,
            "width": null
          }
        }
      }
    }
  },
  "nbformat": 4,
  "nbformat_minor": 0
}
